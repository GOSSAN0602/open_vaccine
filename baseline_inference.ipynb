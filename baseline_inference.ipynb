{
 "cells": [
  {
   "cell_type": "code",
   "execution_count": 1,
   "metadata": {},
   "outputs": [],
   "source": [
    "import numpy as np\n",
    "import pandas as pd\n",
    "import json\n",
    "import torch\n",
    "from tqdm import tqdm\n",
    "from torch import nn\n",
    "from torch.utils.data import Dataset, DataLoader\n",
    "from sklearn.preprocessing import LabelEncoder, OneHotEncoder"
   ]
  },
  {
   "cell_type": "code",
   "execution_count": 2,
   "metadata": {},
   "outputs": [],
   "source": [
    "WEIGHTS_PATH = './weights.pth'\n",
    "FEATURE_SIZE = 21\n",
    "BATCH_SIZE = 256"
   ]
  },
  {
   "cell_type": "code",
   "execution_count": 3,
   "metadata": {},
   "outputs": [],
   "source": [
    "def one_hot(categories, string):\n",
    "    encoding = np.zeros((len(string), len(categories)))\n",
    "    for idx, char in enumerate(string):\n",
    "        encoding[idx, categories.index(char)] = 1\n",
    "    return encoding\n",
    "\n",
    "def featurize(entity):\n",
    "    sequence = one_hot(list('ACGU'), entity['sequence'])\n",
    "    structure = one_hot(list('.()'), entity['structure'])\n",
    "    loop_type = one_hot(list('BEHIMSX'), entity['predicted_loop_type'])\n",
    "    features = np.hstack([sequence, structure, loop_type])\n",
    "    return features \n",
    "\n",
    "def char_encode(index, features, feature_size):\n",
    "    half_size = (feature_size - 1) // 2\n",
    "    \n",
    "    if index - half_size < 0:\n",
    "        char_features = features[:index+half_size+1]\n",
    "        padding = np.zeros((int(half_size - index), char_features.shape[1]))\n",
    "        char_features = np.vstack([padding, char_features])\n",
    "    elif index + half_size + 1 > len(features):\n",
    "        char_features = features[index-half_size:]\n",
    "        padding = np.zeros((int(half_size - (len(features) - index))+1, char_features.shape[1]))\n",
    "        char_features = np.vstack([char_features, padding])\n",
    "    else:\n",
    "        char_features = features[index-half_size:index+half_size+1]\n",
    "    \n",
    "    return char_features"
   ]
  },
  {
   "cell_type": "code",
   "execution_count": 4,
   "metadata": {},
   "outputs": [],
   "source": [
    "class VaxDataset(Dataset):\n",
    "    def __init__(self, path, test=False):\n",
    "        self.path = path\n",
    "        self.test = test\n",
    "        self.features = []\n",
    "        self.targets = []\n",
    "        self.ids = []\n",
    "        self.load_data()\n",
    "    \n",
    "    def load_data(self):\n",
    "        with open(self.path, 'r') as text:\n",
    "            for line in text:\n",
    "                records = json.loads(line)\n",
    "                features = featurize(records)\n",
    "                \n",
    "                for char_i in range(records['seq_scored']):\n",
    "                    char_features = char_encode(char_i, features, FEATURE_SIZE)\n",
    "                    self.features.append(char_features)\n",
    "                    self.ids.append('%s_%d' % (records['id'], char_i))\n",
    "                        \n",
    "                if not self.test:\n",
    "                    targets = np.stack([records['reactivity'], records['deg_Mg_pH10'], records['deg_Mg_50C']], axis=1)\n",
    "                    self.targets.extend([targets[char_i] for char_i in range(records['seq_scored'])])\n",
    "                    \n",
    "    def __len__(self):\n",
    "        return len(self.features)\n",
    "    \n",
    "    def __getitem__(self, index):\n",
    "        if self.test:\n",
    "            return self.features[index], self.ids[index]\n",
    "        else:\n",
    "            return self.features[index], self.targets[index], self.ids[index]"
   ]
  },
  {
   "cell_type": "code",
   "execution_count": 5,
   "metadata": {},
   "outputs": [],
   "source": [
    "test_dataset = VaxDataset('../input/stanford-covid-vaccine/test.json', test=True)\n",
    "test_dataloader = DataLoader(test_dataset, BATCH_SIZE, num_workers=4, drop_last=False, pin_memory=True)"
   ]
  },
  {
   "cell_type": "code",
   "execution_count": 6,
   "metadata": {},
   "outputs": [],
   "source": [
    "class Flatten(nn.Module):\n",
    "    def forward(self, x):\n",
    "        batch_size = x.shape[0]\n",
    "        return x.view(batch_size, -1)\n",
    "\n",
    "class VaxModel(nn.Module):\n",
    "    def __init__(self):\n",
    "        super(VaxModel, self).__init__()\n",
    "        self.layers = nn.Sequential(\n",
    "            nn.Dropout(0.2),\n",
    "            nn.Conv1d(14, 32, 1, 1),\n",
    "            nn.PReLU(),\n",
    "            nn.BatchNorm1d(32),\n",
    "            nn.Dropout(0.2),\n",
    "            nn.Conv1d(32, 1, 1, 1),\n",
    "            nn.PReLU(),\n",
    "            Flatten(),\n",
    "            nn.Dropout(0.2),\n",
    "            nn.Linear(FEATURE_SIZE, 32),\n",
    "            nn.PReLU(),\n",
    "            nn.BatchNorm1d(32),\n",
    "            nn.Dropout(0.2),\n",
    "            nn.Linear(32, 3),\n",
    "        )\n",
    "    \n",
    "    def forward(self, features):\n",
    "        return self.layers(features)"
   ]
  },
  {
   "cell_type": "code",
   "execution_count": 7,
   "metadata": {},
   "outputs": [],
   "source": [
    "model = VaxModel()"
   ]
  },
  {
   "cell_type": "code",
   "execution_count": 8,
   "metadata": {},
   "outputs": [],
   "source": [
    "sub = pd.read_csv('../input/stanford-covid-vaccine/sample_submission.csv', index_col='id_seqpos')"
   ]
  },
  {
   "cell_type": "code",
   "execution_count": 9,
   "metadata": {},
   "outputs": [
    {
     "name": "stderr",
     "output_type": "stream",
     "text": [
      "100%|██████████| 1236/1236 [00:04<00:00, 287.60it/s]\n"
     ]
    }
   ],
   "source": [
    "model.load_state_dict(torch.load(WEIGHTS_PATH))\n",
    "model.eval()\n",
    "for features, ids in tqdm(test_dataloader):\n",
    "    features = features.permute(0,2,1).float()\n",
    "    predictions = model(features)\n",
    "    sub.loc[ids, ['reactivity', 'deg_Mg_pH10', 'deg_Mg_50C']] = predictions.detach().numpy()"
   ]
  },
  {
   "cell_type": "code",
   "execution_count": 10,
   "metadata": {},
   "outputs": [
    {
     "data": {
      "text/html": [
       "<div>\n",
       "<style scoped>\n",
       "    .dataframe tbody tr th:only-of-type {\n",
       "        vertical-align: middle;\n",
       "    }\n",
       "\n",
       "    .dataframe tbody tr th {\n",
       "        vertical-align: top;\n",
       "    }\n",
       "\n",
       "    .dataframe thead th {\n",
       "        text-align: right;\n",
       "    }\n",
       "</style>\n",
       "<table border=\"1\" class=\"dataframe\">\n",
       "  <thead>\n",
       "    <tr style=\"text-align: right;\">\n",
       "      <th></th>\n",
       "      <th>reactivity</th>\n",
       "      <th>deg_Mg_pH10</th>\n",
       "      <th>deg_pH10</th>\n",
       "      <th>deg_Mg_50C</th>\n",
       "      <th>deg_50C</th>\n",
       "    </tr>\n",
       "    <tr>\n",
       "      <th>id_seqpos</th>\n",
       "      <th></th>\n",
       "      <th></th>\n",
       "      <th></th>\n",
       "      <th></th>\n",
       "      <th></th>\n",
       "    </tr>\n",
       "  </thead>\n",
       "  <tbody>\n",
       "    <tr>\n",
       "      <th>id_00073f8be_0</th>\n",
       "      <td>0.880476</td>\n",
       "      <td>0.791534</td>\n",
       "      <td>0.0</td>\n",
       "      <td>0.737347</td>\n",
       "      <td>0.0</td>\n",
       "    </tr>\n",
       "    <tr>\n",
       "      <th>id_00073f8be_1</th>\n",
       "      <td>1.513938</td>\n",
       "      <td>1.828215</td>\n",
       "      <td>0.0</td>\n",
       "      <td>1.779480</td>\n",
       "      <td>0.0</td>\n",
       "    </tr>\n",
       "    <tr>\n",
       "      <th>id_00073f8be_2</th>\n",
       "      <td>1.251020</td>\n",
       "      <td>1.127661</td>\n",
       "      <td>0.0</td>\n",
       "      <td>1.170841</td>\n",
       "      <td>0.0</td>\n",
       "    </tr>\n",
       "    <tr>\n",
       "      <th>id_00073f8be_3</th>\n",
       "      <td>1.115050</td>\n",
       "      <td>0.934803</td>\n",
       "      <td>0.0</td>\n",
       "      <td>1.066200</td>\n",
       "      <td>0.0</td>\n",
       "    </tr>\n",
       "    <tr>\n",
       "      <th>id_00073f8be_4</th>\n",
       "      <td>0.920037</td>\n",
       "      <td>0.854155</td>\n",
       "      <td>0.0</td>\n",
       "      <td>0.937674</td>\n",
       "      <td>0.0</td>\n",
       "    </tr>\n",
       "  </tbody>\n",
       "</table>\n",
       "</div>"
      ],
      "text/plain": [
       "                reactivity  deg_Mg_pH10  deg_pH10  deg_Mg_50C  deg_50C\n",
       "id_seqpos                                                             \n",
       "id_00073f8be_0    0.880476     0.791534       0.0    0.737347      0.0\n",
       "id_00073f8be_1    1.513938     1.828215       0.0    1.779480      0.0\n",
       "id_00073f8be_2    1.251020     1.127661       0.0    1.170841      0.0\n",
       "id_00073f8be_3    1.115050     0.934803       0.0    1.066200      0.0\n",
       "id_00073f8be_4    0.920037     0.854155       0.0    0.937674      0.0"
      ]
     },
     "execution_count": 10,
     "metadata": {},
     "output_type": "execute_result"
    }
   ],
   "source": [
    "sub.head()"
   ]
  },
  {
   "cell_type": "code",
   "execution_count": 11,
   "metadata": {},
   "outputs": [],
   "source": [
    "sub.to_csv('./submission.csv')"
   ]
  }
 ],
 "metadata": {
  "kernelspec": {
   "display_name": "Python 3",
   "language": "python",
   "name": "python3"
  },
  "language_info": {
   "codemirror_mode": {
    "name": "ipython",
    "version": 3
   },
   "file_extension": ".py",
   "mimetype": "text/x-python",
   "name": "python",
   "nbconvert_exporter": "python",
   "pygments_lexer": "ipython3",
   "version": "3.7.0"
  }
 },
 "nbformat": 4,
 "nbformat_minor": 4
}
